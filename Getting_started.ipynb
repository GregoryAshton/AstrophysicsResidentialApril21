{
 "cells": [
  {
   "cell_type": "markdown",
   "metadata": {},
   "source": [
    "# Getting started with Python\n",
    "\n",
    "Python is a programming language used by scientists, engineers, and researchers around the world. In this notebook, we will learn about some of the things `python` can do. \n",
    "\n",
    "## Notebooks\n",
    "\n",
    "You are reading/running this in a `juypyter notebook`, this is a tool which allows us to run bits of code and write text which does along side it. First, let's learn how to run code in a notebook.\n",
    "\n",
    "Below, you'll see a grey box. In the grey box, type `my_age = 30`, replace `30` with your age of course!"
   ]
  },
  {
   "cell_type": "code",
   "execution_count": null,
   "metadata": {},
   "outputs": [],
   "source": [
    "my_age = 30"
   ]
  },
  {
   "cell_type": "markdown",
   "metadata": {},
   "source": [
    "Once you have typed in `my_age = 30`, hit the \"play\" button on the left hand side (you can also hit Shift + Enter). To check it worked, hit play on the gray box below:"
   ]
  },
  {
   "cell_type": "code",
   "execution_count": null,
   "metadata": {},
   "outputs": [],
   "source": [
    "print(my_age)"
   ]
  },
  {
   "attachments": {},
   "cell_type": "markdown",
   "metadata": {},
   "source": [
    "If you see this\n",
    "![image.png](thumbnails/working.png)\n",
    "then it worked, congratulations!\n",
    "If you see this\n",
    "![image.png](thumbnails/not_defined.png)\n",
    "It means that you didn't type in `my_age = 30` into the first gray box and hit play. Try it again. If you still have problems, ask an instructor for help."
   ]
  }
 ],
 "metadata": {
  "kernelspec": {
   "display_name": "Python 3",
   "language": "python",
   "name": "python3"
  },
  "language_info": {
   "codemirror_mode": {
    "name": "ipython",
    "version": 3
   },
   "file_extension": ".py",
   "mimetype": "text/x-python",
   "name": "python",
   "nbconvert_exporter": "python",
   "pygments_lexer": "ipython3",
   "version": "3.7.6"
  }
 },
 "nbformat": 4,
 "nbformat_minor": 4
}
