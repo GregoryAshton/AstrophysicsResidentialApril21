{
 "cells": [
  {
   "cell_type": "markdown",
   "metadata": {},
   "source": [
    "# Getting started with Python\n",
    "\n",
    "Python is a programming language used by scientists, engineers, and researchers around the world. In this notebook, we will learn about some of the things `python` can do. \n",
    "\n",
    "## Notebooks\n",
    "\n",
    "You are reading/running this in a `juypyter notebook`, this is a tool which allows us to run bits of code and write text which does along side it. First, let's learn how to run code in a notebook.\n",
    "\n",
    "Below, you'll see a grey box. In the grey box, type `my_age = 30`, replace `30` with your age of course!"
   ]
  },
  {
   "cell_type": "code",
   "execution_count": null,
   "metadata": {},
   "outputs": [],
   "source": []
  },
  {
   "cell_type": "markdown",
   "metadata": {},
   "source": [
    "Once you have typed in `my_age = 30`, hit the \"play\" button on the left hand side (you can also hit Shift + Enter). To check it worked, hit play on the gray box below:"
   ]
  },
  {
   "cell_type": "code",
   "execution_count": null,
   "metadata": {},
   "outputs": [],
   "source": [
    "print(my_age)"
   ]
  },
  {
   "cell_type": "markdown",
   "metadata": {},
   "source": [
    "If you see this\n",
    "![image.png](thumbnails/working.png)\n",
    "then it worked, congratulations!\n",
    "If you see this\n",
    "![image.png](thumbnails/not_defined.png)\n",
    "It means that you didn't type in `my_age = 30` into the first gray box and hit play. Try it again. If you still have problems, ask an instructor for help."
   ]
  },
  {
   "cell_type": "markdown",
   "metadata": {},
   "source": []
  },
  {
   "cell_type": "markdown",
   "metadata": {},
   "source": [
    "## Getting started with python: operations\n",
    "\n",
    "Now that we know how to run code, we can learn about some of the operations we can do in ptyhon. First, let's talk about assignment. \n",
    "\n",
    "In python, we use the `=` symbol to assign an object (e.g. `30`) to a variable (e.g. `my_age`). This lets us store the object away for later use. In the cell below, we assign the number `10` to the variable `x`, run the cell:"
   ]
  },
  {
   "cell_type": "code",
   "execution_count": null,
   "metadata": {},
   "outputs": [],
   "source": [
    "x = 10"
   ]
  },
  {
   "cell_type": "markdown",
   "metadata": {},
   "source": [
    "Now that we have assigned the number `10` to the variable `x`. We can use it. For example, here we multiply it by 10, i.e. $x \\times 10 $:"
   ]
  },
  {
   "cell_type": "code",
   "execution_count": null,
   "metadata": {},
   "outputs": [],
   "source": [
    "x * 10"
   ]
  },
  {
   "cell_type": "markdown",
   "metadata": {},
   "source": [
    "Or we can add to it $x + 10$"
   ]
  },
  {
   "cell_type": "code",
   "execution_count": null,
   "metadata": {},
   "outputs": [],
   "source": [
    "x + 10"
   ]
  },
  {
   "cell_type": "markdown",
   "metadata": {},
   "source": [
    "Or we can square it ($x^2$):"
   ]
  },
  {
   "cell_type": "code",
   "execution_count": null,
   "metadata": {},
   "outputs": [],
   "source": [
    "x ** 2"
   ]
  },
  {
   "cell_type": "markdown",
   "metadata": {},
   "source": [
    "Or, we can do something quite complicated like:\n",
    "\n",
    "$$ \\frac{(x + 10)^3}{2x} $$"
   ]
  },
  {
   "cell_type": "code",
   "execution_count": null,
   "metadata": {},
   "outputs": [],
   "source": [
    "((x + 10) ** 3) / (2 * x)"
   ]
  },
  {
   "cell_type": "markdown",
   "metadata": {},
   "source": [
    "We can do multiple things at once in a cell if we like. Here, we will assign a new variable and add it to `x`"
   ]
  },
  {
   "cell_type": "code",
   "execution_count": null,
   "metadata": {},
   "outputs": [],
   "source": [
    "y = 100\n",
    "x + y"
   ]
  },
  {
   "cell_type": "markdown",
   "metadata": {},
   "source": [
    "### Challenge\n",
    "\n",
    "In the cell below, assign the variable `z` to the number 555. Then use it to calculate\n",
    "$$ z^2 - 14 $$\n",
    "where $z=555$. Use a calculator to check you got the right answer"
   ]
  },
  {
   "cell_type": "markdown",
   "metadata": {},
   "source": [
    "## Functions\n",
    "\n",
    "Above, we did lots of complicated maths in python, well done! But, what if we don't want to type it all out every time? \n",
    "\n",
    "If we want to repeat the same thing, we can write a function. Here is an example of a `python` function:"
   ]
  },
  {
   "cell_type": "code",
   "execution_count": null,
   "metadata": {},
   "outputs": [],
   "source": [
    "def square(number):\n",
    "    return number * number"
   ]
  },
  {
   "cell_type": "markdown",
   "metadata": {},
   "source": [
    "Before we understand how it works, let's see it in action. Run the cell above then run the cell below:"
   ]
  },
  {
   "cell_type": "code",
   "execution_count": null,
   "metadata": {},
   "outputs": [],
   "source": [
    "x = 10\n",
    "square(x)"
   ]
  },
  {
   "cell_type": "markdown",
   "metadata": {},
   "source": [
    "Try changing the `x` in the function above, check that it correctly squares numbers!\n",
    "\n",
    "Here are some comments explaining each bit of the function definition:\n",
    "```python\n",
    "# The \"def\" bit tells python it is a function\n",
    "# the \"square\" bit named the function\n",
    "# the \"(number)\" defines the inputs\n",
    "def square(number):  # We need a colon, :, here to tell python it is a function too!\n",
    "    return number * number\n",
    "\n",
    "# ^ the bits \"inside\" the function need to have four spaces at the start\n",
    "# the return bit tells the function what to return\n",
    "```"
   ]
  },
  {
   "cell_type": "markdown",
   "metadata": {},
   "source": [
    "In the square function, we had one input, `number`. But python functions can take as many inputs as they need:"
   ]
  },
  {
   "cell_type": "code",
   "execution_count": null,
   "metadata": {},
   "outputs": [],
   "source": [
    "def add(number1, number2):\n",
    "    return number1 + number2\n",
    "    \n",
    "add(12, 18)"
   ]
  },
  {
   "cell_type": "markdown",
   "metadata": {},
   "source": [
    "Or they can have no inputs, maybe they just return something.."
   ]
  },
  {
   "cell_type": "code",
   "execution_count": null,
   "metadata": {},
   "outputs": [],
   "source": [
    "def zero():\n",
    "    return 0\n",
    "\n",
    "zero()"
   ]
  },
  {
   "cell_type": "markdown",
   "metadata": {},
   "source": [
    "### Challenge\n",
    "\n",
    "In the cell below, write a function to calculate\n",
    "\n",
    "$$ f(x) = x^2 + 1 $$\n",
    "\n",
    "A template is provided to fill in:"
   ]
  },
  {
   "cell_type": "code",
   "execution_count": null,
   "metadata": {},
   "outputs": [],
   "source": [
    "# rename the function!\n",
    "def my_function_name(x):\n",
    "    return # fill in this bit here"
   ]
  }
 ],
 "metadata": {
  "kernelspec": {
   "display_name": "Python 3",
   "language": "python",
   "name": "python3"
  },
  "language_info": {
   "codemirror_mode": {
    "name": "ipython",
    "version": 3
   },
   "file_extension": ".py",
   "mimetype": "text/x-python",
   "name": "python",
   "nbconvert_exporter": "python",
   "pygments_lexer": "ipython3",
   "version": "3.7.6"
  }
 },
 "nbformat": 4,
 "nbformat_minor": 4
}
