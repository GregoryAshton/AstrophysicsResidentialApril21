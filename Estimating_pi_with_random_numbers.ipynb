{
 "cells": [
  {
   "cell_type": "code",
   "execution_count": null,
   "id": "liquid-effectiveness",
   "metadata": {},
   "outputs": [],
   "source": [
    "import matplotlib.pyplot as plt\n",
    "from matplotlib.patches import Rectangle, Circle\n",
    "from random import random\n",
    "\n",
    "class Rectangle(object):\n",
    "    def __init__(self):\n",
    "        # self.patch = Rectangle((0, 0), 1, 1, alpha=0.3, color=\"C0\")\n",
    "        pass\n",
    "        \n",
    "    def is_inside(self, x, y):\n",
    "        if 0 < x < 1 and 0 < y < 1:\n",
    "            return True\n",
    "        else:\n",
    "            return False\n",
    "    \n",
    "class Circle(object):\n",
    "    def __init__(self):\n",
    "        pass\n",
    "        \n",
    "    def is_inside(self, x, y):\n",
    "        xp = x - 0.5\n",
    "        yp = y - 0.5\n",
    "        if xp ** 2 + yp ** 2 < 0.25:\n",
    "            return True\n",
    "        else:\n",
    "            return False\n",
    "\n",
    "        \n",
    "def draw_square_and_circle():\n",
    "    fig, ax = plt.subplots()\n",
    "    ax.add_patch()\n",
    "    ax.add_patch(Circle((.5, .5), radius=0.5, alpha=0.7, color=\"C1\"))\n",
    "    ax.set_xlim(-0.2, 1.2)\n",
    "    ax.set_ylim(-0.2, 1.2)\n",
    "    ax.set_aspect(\"equal\")\n",
    "    return fig, ax\n",
    "\n",
    "%matplotlib notebook"
   ]
  },
  {
   "cell_type": "markdown",
   "id": "characteristic-merchandise",
   "metadata": {},
   "source": [
    "# Calculating $\\pi$ with random numbers\n",
    "\n",
    "In this exersize, we are going to estimate the [mathematical constant $pi$](https://en.wikipedia.org/wiki/Pi) using random numbers! First, we'll talk about random numbers are, then we'll talk about where $pi$ comes from, then we'll estimate it!\n",
    "\n",
    "## Random numbers\n",
    "\n",
    "Random numbers help is to simulate the world around us: from random fluctuations in the temperature to the shimmering lights from stars. \n",
    "\n",
    "### How do we simulate random numbers with Python?\n",
    "\n",
    "We simulate random numbers using the `random` function. First, let's import it:"
   ]
  },
  {
   "cell_type": "code",
   "execution_count": null,
   "id": "early-mouth",
   "metadata": {},
   "outputs": [],
   "source": [
    "# Import the \"random\" functions from the \"random module\". Note, the random module also has lots of other useful functions!\n",
    "from random import random"
   ]
  },
  {
   "cell_type": "markdown",
   "id": "satisfied-diesel",
   "metadata": {},
   "source": [
    "Okay, so let's find out what the `random` function does. \n",
    "\n",
    "**Execute the code below by pressing the play button or putting your cursor in the box and hitting Ctrl + Enter**"
   ]
  },
  {
   "cell_type": "code",
   "execution_count": null,
   "id": "victorian-williams",
   "metadata": {},
   "outputs": [],
   "source": [
    "random()"
   ]
  },
  {
   "cell_type": "markdown",
   "id": "physical-perspective",
   "metadata": {},
   "source": [
    "If you execute the code above a few times, you'll see that it produces random numbers between 0 and 1. \n",
    "\n",
    "### How do we save these random numbers? \n",
    "\n",
    "To save the output from a function, we can assign it. Let's draw a random number using the `random()` function and store it in a variable:"
   ]
  },
  {
   "cell_type": "code",
   "execution_count": null,
   "id": "intense-shock",
   "metadata": {},
   "outputs": [],
   "source": [
    "variable = random()"
   ]
  },
  {
   "cell_type": "markdown",
   "id": "right-basket",
   "metadata": {},
   "source": [
    "Now, the random number has been stored as `variable`, to see what it is, we can `print()` it!"
   ]
  },
  {
   "cell_type": "code",
   "execution_count": null,
   "id": "intense-snake",
   "metadata": {},
   "outputs": [],
   "source": [
    "print(variable)"
   ]
  },
  {
   "cell_type": "markdown",
   "id": "monetary-membership",
   "metadata": {},
   "source": [
    "### How do we save lots of random numbers?\n",
    "\n",
    "We are going to need lots of random numbers. We don't really want to have lots of variables. Instead, we can save them to a `list()`!\n",
    "\n",
    "Let's repeat the code above 1000 times and store the random numbers in a list:"
   ]
  },
  {
   "cell_type": "code",
   "execution_count": null,
   "id": "engaged-pledge",
   "metadata": {},
   "outputs": [],
   "source": [
    "# Create an empty list to store our results\n",
    "random_numbers = []\n",
    "\n",
    "for ii in range(1000):\n",
    "    # The append method saves the output of random() in the list random_numbers\n",
    "    random_numbers.append(random())"
   ]
  },
  {
   "cell_type": "markdown",
   "id": "labeled-mobility",
   "metadata": {},
   "source": [
    "Okay, now let's check what the output looks like. Again, we will `print` the output:"
   ]
  },
  {
   "cell_type": "code",
   "execution_count": null,
   "id": "aggressive-source",
   "metadata": {},
   "outputs": [],
   "source": [
    "print(random_numbers)"
   ]
  },
  {
   "cell_type": "markdown",
   "id": "radical-arabic",
   "metadata": {},
   "source": [
    "Okay, that is a lot of random numbers!"
   ]
  },
  {
   "cell_type": "markdown",
   "id": "instrumental-sentence",
   "metadata": {},
   "source": [
    "## Talking about $\\pi$\n",
    "\n",
    "The area of a circle of diameter $d=1$ is:\n",
    "\n",
    "$$ A_{\\rm circle} = \\pi \\left(\\frac{d}{2}\\right)^{2} $$\n",
    "\n",
    "The area of a square of side $d$ is:\n",
    "$$ A_{\\rm square} = d^{2}$$"
   ]
  },
  {
   "cell_type": "code",
   "execution_count": null,
   "id": "contrary-brazilian",
   "metadata": {},
   "outputs": [],
   "source": [
    "fig, ax = draw_square_and_circle()\n",
    "fig.show()"
   ]
  },
  {
   "cell_type": "markdown",
   "id": "handed-pontiac",
   "metadata": {},
   "source": [
    "If we divide the area of the circle by the area of the square:\n",
    "\n",
    "$$ \\frac{A_{\\rm circle}}{A_{\\rm square}} = \\frac{\\pi}{4} $$"
   ]
  },
  {
   "cell_type": "markdown",
   "id": "rocky-damages",
   "metadata": {},
   "source": [
    "## Using random numbers to estimate $\\pi$"
   ]
  },
  {
   "cell_type": "code",
   "execution_count": null,
   "id": "potential-magnitude",
   "metadata": {},
   "outputs": [],
   "source": [
    "circle = Circle()\n",
    "\n",
    "npoints_inside_circle = 0\n",
    "npoints_total = 1000000\n",
    "for ii in range(npoints_total):\n",
    "    xpoint = random()\n",
    "    ypoint = random()\n",
    "    if circle.is_inside(xpoint, ypoint):\n",
    "        npoints_inside_circle += 1\n",
    "        \n",
    "\n",
    "print(4 * npoints_inside_circle / npoints_total)"
   ]
  }
 ],
 "metadata": {
  "kernelspec": {
   "display_name": "Python 3",
   "language": "python",
   "name": "python3"
  },
  "language_info": {
   "codemirror_mode": {
    "name": "ipython",
    "version": 3
   },
   "file_extension": ".py",
   "mimetype": "text/x-python",
   "name": "python",
   "nbconvert_exporter": "python",
   "pygments_lexer": "ipython3",
   "version": "3.7.7"
  }
 },
 "nbformat": 4,
 "nbformat_minor": 5
}
